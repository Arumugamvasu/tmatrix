{
 "cells": [
  {
   "cell_type": "code",
   "execution_count": 16,
   "metadata": {
    "collapsed": true
   },
   "outputs": [],
   "source": [
    "## Super Function"
   ]
  },
  {
   "cell_type": "code",
   "execution_count": 89,
   "metadata": {
    "collapsed": true
   },
   "outputs": [],
   "source": [
    "# Simple class "
   ]
  },
  {
   "cell_type": "code",
   "execution_count": 91,
   "metadata": {
    "collapsed": true
   },
   "outputs": [],
   "source": [
    "class A:\n",
    "    def __init__(self,name,value):\n",
    "        self.name=name\n",
    "        self.value=value\n",
    "        \n",
    "class B(A):\n",
    "       def __init__(self,name,value,place):\n",
    "        self.name=name\n",
    "        self.value=value\n",
    "        self.place=place"
   ]
  },
  {
   "cell_type": "code",
   "execution_count": 92,
   "metadata": {
    "collapsed": true
   },
   "outputs": [],
   "source": [
    "ob=B('raja',12,'chennai')"
   ]
  },
  {
   "cell_type": "code",
   "execution_count": 93,
   "metadata": {
    "collapsed": true
   },
   "outputs": [],
   "source": [
    "class A:\n",
    "    def __init__(self,name,value):\n",
    "        self.name=name\n",
    "        self.value=value\n",
    "        \n",
    "class B(A):\n",
    "       def __init__(self,name,value,place):\n",
    "        super().__init__(name,value)\n",
    "        self.place=place"
   ]
  },
  {
   "cell_type": "code",
   "execution_count": 94,
   "metadata": {
    "collapsed": true
   },
   "outputs": [],
   "source": [
    "obj=B('raja',12,'chennai')"
   ]
  },
  {
   "cell_type": "code",
   "execution_count": 95,
   "metadata": {},
   "outputs": [
    {
     "data": {
      "text/plain": [
       "'raja'"
      ]
     },
     "execution_count": 95,
     "metadata": {},
     "output_type": "execute_result"
    }
   ],
   "source": [
    "obj.name"
   ]
  },
  {
   "cell_type": "code",
   "execution_count": 96,
   "metadata": {},
   "outputs": [
    {
     "data": {
      "text/plain": [
       "12"
      ]
     },
     "execution_count": 96,
     "metadata": {},
     "output_type": "execute_result"
    }
   ],
   "source": [
    "obj.value"
   ]
  },
  {
   "cell_type": "code",
   "execution_count": 97,
   "metadata": {},
   "outputs": [
    {
     "data": {
      "text/plain": [
       "'chennai'"
      ]
     },
     "execution_count": 97,
     "metadata": {},
     "output_type": "execute_result"
    }
   ],
   "source": [
    "obj.place"
   ]
  },
  {
   "cell_type": "code",
   "execution_count": null,
   "metadata": {
    "collapsed": true
   },
   "outputs": [],
   "source": []
  },
  {
   "cell_type": "code",
   "execution_count": null,
   "metadata": {
    "collapsed": true
   },
   "outputs": [],
   "source": []
  },
  {
   "cell_type": "code",
   "execution_count": 119,
   "metadata": {
    "collapsed": true
   },
   "outputs": [],
   "source": [
    "class employee():\n",
    "    inp_p=10\n",
    "    def __init__(self,em_id,em_name,en_add):\n",
    "       self.em_id=em_id\n",
    "       self.em_name=em_name\n",
    "       self.en_add=en_add\n",
    "       \n",
    "    def disply_det(self):\n",
    "        print(self.em_id)\n",
    "        print(self.em_name)\n",
    "        \n",
    "        \n",
    "    def add_text(self,para):\n",
    "        print(para+self.em_name)\n",
    "        \n",
    "        \n",
    "        \n",
    "    def sum_d(self,a,b):\n",
    "        self.a=a\n",
    "        self.b=b\n",
    "        print(self.a+self.b)"
   ]
  },
  {
   "cell_type": "code",
   "execution_count": 120,
   "metadata": {},
   "outputs": [],
   "source": [
    "obj1=employee(12,'sai','chennai')"
   ]
  },
  {
   "cell_type": "code",
   "execution_count": 121,
   "metadata": {},
   "outputs": [
    {
     "name": "stdout",
     "output_type": "stream",
     "text": [
      "12\n",
      "sai\n"
     ]
    }
   ],
   "source": [
    "obj1.disply_det()"
   ]
  },
  {
   "cell_type": "code",
   "execution_count": 122,
   "metadata": {
    "scrolled": true
   },
   "outputs": [
    {
     "name": "stdout",
     "output_type": "stream",
     "text": [
      "pyhton sai\n"
     ]
    }
   ],
   "source": [
    "obj1.add_text('pyhton ')"
   ]
  },
  {
   "cell_type": "code",
   "execution_count": 123,
   "metadata": {},
   "outputs": [
    {
     "ename": "AttributeError",
     "evalue": "'B' object has no attribute 'sum_d'",
     "output_type": "error",
     "traceback": [
      "\u001b[1;31m---------------------------------------------------------------------------\u001b[0m",
      "\u001b[1;31mAttributeError\u001b[0m                            Traceback (most recent call last)",
      "\u001b[1;32m<ipython-input-123-122758c4af93>\u001b[0m in \u001b[0;36m<module>\u001b[1;34m\u001b[0m\n\u001b[1;32m----> 1\u001b[1;33m \u001b[0mobj\u001b[0m\u001b[1;33m.\u001b[0m\u001b[0msum_d\u001b[0m\u001b[1;33m(\u001b[0m\u001b[1;36m12\u001b[0m\u001b[1;33m,\u001b[0m\u001b[1;36m45\u001b[0m\u001b[1;33m)\u001b[0m\u001b[1;33m\u001b[0m\u001b[0m\n\u001b[0m",
      "\u001b[1;31mAttributeError\u001b[0m: 'B' object has no attribute 'sum_d'"
     ]
    }
   ],
   "source": [
    "obj.sum_d(12,45)"
   ]
  },
  {
   "cell_type": "code",
   "execution_count": null,
   "metadata": {
    "collapsed": true
   },
   "outputs": [],
   "source": []
  },
  {
   "cell_type": "code",
   "execution_count": null,
   "metadata": {
    "collapsed": true
   },
   "outputs": [],
   "source": [
    "## super"
   ]
  },
  {
   "cell_type": "code",
   "execution_count": 124,
   "metadata": {},
   "outputs": [],
   "source": [
    "class A():\n",
    "    def __init__(self,name,id_):\n",
    "        self.name=name\n",
    "        self.id_=id_\n",
    "    def func1(self,ka):\n",
    "        self.ka=ka\n",
    "        print(self.id_*ka)\n",
    "        \n",
    "        \n",
    "class B(A):\n",
    "    def __init__(self,name,id_,dept):\n",
    "        #A.name=name\n",
    "        #A.id_=id_\n",
    "        super().__init__(name,id_)\n",
    "        self.dept=dept"
   ]
  },
  {
   "cell_type": "code",
   "execution_count": 125,
   "metadata": {
    "collapsed": true
   },
   "outputs": [],
   "source": [
    "ss=B('sai',15,'ml')"
   ]
  },
  {
   "cell_type": "code",
   "execution_count": 126,
   "metadata": {},
   "outputs": [
    {
     "data": {
      "text/plain": [
       "'sai'"
      ]
     },
     "execution_count": 126,
     "metadata": {},
     "output_type": "execute_result"
    }
   ],
   "source": [
    "ss.name"
   ]
  },
  {
   "cell_type": "code",
   "execution_count": null,
   "metadata": {
    "collapsed": true
   },
   "outputs": [],
   "source": []
  },
  {
   "cell_type": "code",
   "execution_count": null,
   "metadata": {
    "collapsed": true
   },
   "outputs": [],
   "source": []
  },
  {
   "cell_type": "code",
   "execution_count": 58,
   "metadata": {
    "collapsed": true
   },
   "outputs": [],
   "source": [
    "## super"
   ]
  },
  {
   "cell_type": "code",
   "execution_count": 64,
   "metadata": {
    "collapsed": true
   },
   "outputs": [],
   "source": [
    "class phone():\n",
    "    def __init__(self,ram,hd,os):\n",
    "        self.ram=ram\n",
    "        self.hd=hd\n",
    "        self.os=os\n",
    "        self.basic=4652\n",
    "    def show_hd(self):\n",
    "        print(self.hd)\n",
    "    def show_basic(self):\n",
    "        print(self.basic)\n",
    "        print('This is Basic function from Phone')\n",
    "        \n",
    "class redmi(phone):\n",
    "    \n",
    "    def __init__(self,ram,hd,os,model):\n",
    "        super().__init__(ram,hd,os)\n",
    "        self.model=model\n",
    "    def phone_basic(self):\n",
    "        print(self.model)\n",
    "        print('This is phone basic function')\n",
    "    def find_phone_basic(self):\n",
    "        super().show_basic()"
   ]
  },
  {
   "cell_type": "code",
   "execution_count": 128,
   "metadata": {
    "collapsed": true
   },
   "outputs": [],
   "source": [
    "obj=redmi(8,256,'adv3','redmif452')"
   ]
  },
  {
   "cell_type": "code",
   "execution_count": 130,
   "metadata": {},
   "outputs": [
    {
     "data": {
      "text/plain": [
       "256"
      ]
     },
     "execution_count": 130,
     "metadata": {},
     "output_type": "execute_result"
    }
   ],
   "source": [
    "obj.hd"
   ]
  },
  {
   "cell_type": "code",
   "execution_count": 131,
   "metadata": {},
   "outputs": [
    {
     "name": "stdout",
     "output_type": "stream",
     "text": [
      "4652\n",
      "This is Basic function from Phone\n"
     ]
    }
   ],
   "source": [
    "obj.show_basic()"
   ]
  },
  {
   "cell_type": "code",
   "execution_count": 132,
   "metadata": {},
   "outputs": [
    {
     "name": "stdout",
     "output_type": "stream",
     "text": [
      "4652\n",
      "This is Basic function from Phone\n"
     ]
    }
   ],
   "source": [
    "obj.find_phone_basic()"
   ]
  },
  {
   "cell_type": "code",
   "execution_count": null,
   "metadata": {
    "collapsed": true
   },
   "outputs": [],
   "source": []
  },
  {
   "cell_type": "code",
   "execution_count": 127,
   "metadata": {
    "collapsed": true
   },
   "outputs": [],
   "source": [
    "obj=redmi(8,256,'adv3','redmif452')"
   ]
  },
  {
   "cell_type": "code",
   "execution_count": 66,
   "metadata": {},
   "outputs": [
    {
     "data": {
      "text/plain": [
       "8"
      ]
     },
     "execution_count": 66,
     "metadata": {},
     "output_type": "execute_result"
    }
   ],
   "source": [
    "obj.ram"
   ]
  },
  {
   "cell_type": "code",
   "execution_count": 67,
   "metadata": {},
   "outputs": [
    {
     "data": {
      "text/plain": [
       "'redmif452'"
      ]
     },
     "execution_count": 67,
     "metadata": {},
     "output_type": "execute_result"
    }
   ],
   "source": [
    "obj.model"
   ]
  },
  {
   "cell_type": "code",
   "execution_count": 69,
   "metadata": {},
   "outputs": [
    {
     "name": "stdout",
     "output_type": "stream",
     "text": [
      "redmif452\n",
      "This is phone basic function\n"
     ]
    }
   ],
   "source": [
    "obj.phone_basic()"
   ]
  },
  {
   "cell_type": "code",
   "execution_count": 70,
   "metadata": {},
   "outputs": [
    {
     "name": "stdout",
     "output_type": "stream",
     "text": [
      "256\n"
     ]
    }
   ],
   "source": [
    "obj.show_hd()"
   ]
  },
  {
   "cell_type": "code",
   "execution_count": 72,
   "metadata": {},
   "outputs": [
    {
     "name": "stdout",
     "output_type": "stream",
     "text": [
      "4652\n",
      "This is Basic function from Phone\n"
     ]
    }
   ],
   "source": [
    "obj.find_phone_basic()"
   ]
  },
  {
   "cell_type": "code",
   "execution_count": 73,
   "metadata": {
    "collapsed": true
   },
   "outputs": [],
   "source": [
    "class parent():\n",
    "    def __init__(self):\n",
    "        print('This is Base class')\n",
    "        \n",
    "class child1(parent):\n",
    "    def __init__(self):\n",
    "        parent.__init__(self)\n",
    "        print('This is child1')\n",
    "        \n",
    "class child2(parent):\n",
    "    def __init__(self):\n",
    "        parent.__init__(self)\n",
    "        print('this is child2')\n",
    "class child3 (child1,child2):\n",
    "    def __init__(self):\n",
    "        child1.__init__(self)\n",
    "        child2.__init__(self)\n",
    "        print('This is child 3')"
   ]
  },
  {
   "cell_type": "code",
   "execution_count": 74,
   "metadata": {},
   "outputs": [
    {
     "name": "stdout",
     "output_type": "stream",
     "text": [
      "This is Base class\n",
      "This is child1\n",
      "This is Base class\n",
      "this is child2\n",
      "This is child 3\n"
     ]
    }
   ],
   "source": [
    "obj=child3()"
   ]
  },
  {
   "cell_type": "code",
   "execution_count": 77,
   "metadata": {
    "collapsed": true
   },
   "outputs": [],
   "source": [
    "class parent():\n",
    "    def __init__(self):\n",
    "        print('This is Base class')\n",
    "        \n",
    "class child1(parent):\n",
    "    def __init__(self):\n",
    "        super().__init__()\n",
    "        print('This is child 1')\n",
    "        \n",
    "class child2(parent):\n",
    "    def __init__(self):\n",
    "        super().__init__()\n",
    "        print('this is child 2')\n",
    "class child3 (child1,child2):\n",
    "    def __init__(self):\n",
    "        super().__init__()\n",
    "\n",
    "        print('This is child 3')"
   ]
  },
  {
   "cell_type": "code",
   "execution_count": 78,
   "metadata": {},
   "outputs": [
    {
     "name": "stdout",
     "output_type": "stream",
     "text": [
      "This is Base class\n",
      "this is child2\n",
      "This is child1\n",
      "This is child 3\n"
     ]
    }
   ],
   "source": [
    "obj2=child3()"
   ]
  },
  {
   "cell_type": "code",
   "execution_count": 79,
   "metadata": {
    "collapsed": true
   },
   "outputs": [],
   "source": [
    "## method resolution order in python"
   ]
  },
  {
   "cell_type": "code",
   "execution_count": 80,
   "metadata": {},
   "outputs": [
    {
     "name": "stdout",
     "output_type": "stream",
     "text": [
      "(<class '__main__.child3'>, <class '__main__.child1'>, <class '__main__.child2'>, <class '__main__.parent'>, <class 'object'>)\n"
     ]
    }
   ],
   "source": [
    "print(child3.__mro__)"
   ]
  },
  {
   "cell_type": "code",
   "execution_count": 86,
   "metadata": {},
   "outputs": [],
   "source": [
    "class ten():\n",
    "    def adder(self,*agr):\n",
    "        print(sum(agr)+10)\n",
    "        super().adder()\n",
    "        \n",
    "class hundred():\n",
    "        def adder(self,*agr):\n",
    "           print(sum(agr)+100)\n",
    "\n",
    "class experi(ten,hundred):\n",
    "    pass\n",
    "    "
   ]
  },
  {
   "cell_type": "code",
   "execution_count": 87,
   "metadata": {
    "collapsed": true
   },
   "outputs": [],
   "source": [
    "aa=experi()"
   ]
  },
  {
   "cell_type": "code",
   "execution_count": 88,
   "metadata": {},
   "outputs": [
    {
     "name": "stdout",
     "output_type": "stream",
     "text": [
      "16\n",
      "100\n"
     ]
    }
   ],
   "source": [
    "aa.adder(1,2,3)"
   ]
  },
  {
   "cell_type": "code",
   "execution_count": null,
   "metadata": {
    "collapsed": true
   },
   "outputs": [],
   "source": []
  }
 ],
 "metadata": {
  "kernelspec": {
   "display_name": "Python 3",
   "language": "python",
   "name": "python3"
  },
  "language_info": {
   "codemirror_mode": {
    "name": "ipython",
    "version": 3
   },
   "file_extension": ".py",
   "mimetype": "text/x-python",
   "name": "python",
   "nbconvert_exporter": "python",
   "pygments_lexer": "ipython3",
   "version": "3.6.2"
  }
 },
 "nbformat": 4,
 "nbformat_minor": 2
}
